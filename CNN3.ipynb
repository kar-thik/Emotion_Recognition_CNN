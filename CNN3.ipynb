{
 "cells": [
  {
   "cell_type": "code",
   "execution_count": 1,
   "metadata": {},
   "outputs": [],
   "source": [
    "from __future__ import print_function\n",
    "import numpy as np \n",
    "import time\n",
    "import plaidml.keras \n",
    "plaidml.keras.install_backend()\n",
    "import keras\n",
    "from keras.datasets import mnist\n",
    "from keras.models import Sequential\n",
    "from keras.layers import Dense, Dropout, Flatten\n",
    "from keras.layers import Conv2D, MaxPooling2D\n",
    "from keras import backend as K\n",
    "from keras.models import load_model\n",
    "from keras.models import model_from_json"
   ]
  },
  {
   "cell_type": "code",
   "execution_count": 2,
   "metadata": {},
   "outputs": [
    {
     "name": "stdout",
     "output_type": "stream",
     "text": [
      "number of instances:  35888\n",
      "(28709, 2304)\n",
      "(3589, 2304)\n",
      "(28709, 1, 7)\n",
      "(3589, 1, 7)\n",
      "x_train shape: (28709, 48, 48, 1)\n",
      "y_train shape: (28709, 1, 7)\n",
      "28709 train samples\n",
      "3589 test samples\n"
     ]
    }
   ],
   "source": [
    "batch_size = 128\n",
    "num_classes = 7\n",
    "epochs = 15\n",
    "\n",
    "# input image dimensions\n",
    "img_rows, img_cols = 48, 48\n",
    "\n",
    "# the data, split between train and test sets\n",
    "\n",
    "with open(\"./data/fer2013/fer2013.csv\") as f:\n",
    "    content = f.readlines()\n",
    " \n",
    "    lines = np.array(content)\n",
    " \n",
    "num_of_instances = lines.size\n",
    "print(\"number of instances: \",num_of_instances)\n",
    "\n",
    "x_train, y_train, x_test, y_test = [], [], [], []\n",
    " \n",
    "for i in range(1,num_of_instances):\n",
    " try:\n",
    "  emotion, img, usage = lines[i].split(\",\")\n",
    "   \n",
    "  val = img.split(\" \")\n",
    "  pixels = np.array(val, 'float32')\n",
    " \n",
    "  emotion = keras.utils.np_utils.to_categorical(emotion, 7)\n",
    " \n",
    "  if 'Training' in usage:\n",
    "   y_train.append(emotion)\n",
    "   x_train.append(pixels)\n",
    "  elif 'PublicTest' in usage:\n",
    "   y_test.append(emotion)\n",
    "   x_test.append(pixels)\n",
    " except:\n",
    "  print(\"\", end=\"\")\n",
    "\n",
    "x_train = np.array(x_train)\n",
    "y_train = np.array(y_train)\n",
    "x_test = np.array(x_test)\n",
    "y_test = np.array(y_test)\n",
    "\n",
    "print(x_train.shape)\n",
    "print(x_test.shape)\n",
    "print(y_train.shape)\n",
    "print(y_test.shape)\n",
    "\n",
    "if K.image_data_format() == 'channels_first':\n",
    "    x_train = x_train.reshape(x_train.shape[0], 1, img_rows, img_cols)\n",
    "    x_test = x_test.reshape(x_test.shape[0], 1, img_rows, img_cols)\n",
    "    input_shape = (1, img_rows, img_cols)\n",
    "else:\n",
    "    x_train = x_train.reshape(x_train.shape[0], img_rows, img_cols, 1)\n",
    "    x_test = x_test.reshape(x_test.shape[0], img_rows, img_cols, 1)\n",
    "    input_shape = (img_rows, img_cols, 1)\n",
    "\n",
    "x_train = x_train.astype('float32')\n",
    "x_test = x_test.astype('float32')\n",
    "x_train /= 255\n",
    "x_test /= 255\n",
    "print('x_train shape:', x_train.shape)\n",
    "print('y_train shape:', y_train.shape)\n",
    "print(x_train.shape[0], 'train samples')\n",
    "print(x_test.shape[0], 'test samples')\n",
    "\n",
    "# convert class vectors to binary class matrices\n",
    "#y_train = keras.utils.np_utils.to_categorical(y_train, num_classes)"
   ]
  },
  {
   "cell_type": "code",
   "execution_count": 3,
   "metadata": {},
   "outputs": [],
   "source": [
    "from numpy.random import seed\n",
    "seed(1)"
   ]
  },
  {
   "cell_type": "code",
   "execution_count": 11,
   "metadata": {},
   "outputs": [],
   "source": [
    "y_train = y_train.reshape(28709,7)\n",
    "y_test = y_test.reshape(len(y_test),7)"
   ]
  },
  {
   "cell_type": "code",
   "execution_count": 7,
   "metadata": {},
   "outputs": [],
   "source": [
    "model = Sequential()\n",
    " \n",
    "#1st convolution layer\n",
    "model.add(Conv2D(64, (5, 5), activation='relu', input_shape=(48,48,1)))\n",
    "model.add(MaxPooling2D(pool_size=(3,3), strides=(2, 2)))\n",
    " \n",
    "#2nd convolution layer\n",
    "model.add(Conv2D(64, (3, 3), activation='relu'))\n",
    "model.add(Conv2D(64, (3, 3), activation='relu'))\n",
    "model.add(MaxPooling2D(pool_size=(3,3), strides=(2, 2)))\n",
    " \n",
    "#3rd convolution layer\n",
    "model.add(Conv2D(128, (3, 3), activation='relu'))\n",
    "model.add(Conv2D(128, (3, 3), activation='relu'))\n",
    "model.add(MaxPooling2D(pool_size=(3,3), strides=(2, 2)))\n",
    " \n",
    "model.add(Flatten())\n",
    " \n",
    "#fully connected neural networks\n",
    "model.add(Dense(1024, activation='relu'))\n",
    "model.add(Dropout(0.2))\n",
    "model.add(Dense(1024, activation='relu'))\n",
    "model.add(Dropout(0.2))\n",
    " \n",
    "model.add(Dense(7, activation='softmax'))"
   ]
  },
  {
   "cell_type": "code",
   "execution_count": 8,
   "metadata": {
    "scrolled": false
   },
   "outputs": [
    {
     "name": "stdout",
     "output_type": "stream",
     "text": [
      "Epoch 1/100\n",
      "28709/28709 [==============================] - 48s - loss: 1.8243 - acc: 0.2486    \n",
      "Epoch 2/100\n",
      "28709/28709 [==============================] - 34s - loss: 1.8019 - acc: 0.2523    \n",
      "Epoch 3/100\n",
      "28709/28709 [==============================] - 34s - loss: 1.7782 - acc: 0.2592    \n",
      "Epoch 4/100\n",
      "28709/28709 [==============================] - 34s - loss: 1.6985 - acc: 0.3062    \n",
      "Epoch 5/100\n",
      "28709/28709 [==============================] - 34s - loss: 1.5878 - acc: 0.3717    \n",
      "Epoch 6/100\n",
      "28709/28709 [==============================] - 34s - loss: 1.4689 - acc: 0.4270    \n",
      "Epoch 7/100\n",
      "28709/28709 [==============================] - 34s - loss: 1.3927 - acc: 0.4614    \n",
      "Epoch 8/100\n",
      "28709/28709 [==============================] - 34s - loss: 1.3299 - acc: 0.4920    \n",
      "Epoch 9/100\n",
      "28709/28709 [==============================] - 34s - loss: 1.2959 - acc: 0.5075    \n",
      "Epoch 10/100\n",
      "28709/28709 [==============================] - 35s - loss: 1.2394 - acc: 0.5269    \n",
      "Epoch 11/100\n",
      "28709/28709 [==============================] - 48s - loss: 1.2055 - acc: 0.5429    \n",
      "Epoch 12/100\n",
      "28709/28709 [==============================] - 51s - loss: 1.1644 - acc: 0.5572    \n",
      "Epoch 13/100\n",
      "28709/28709 [==============================] - 40s - loss: 1.1409 - acc: 0.5710    \n",
      "Epoch 14/100\n",
      "28709/28709 [==============================] - 36s - loss: 1.0870 - acc: 0.5928    \n",
      "Epoch 15/100\n",
      "28709/28709 [==============================] - 34s - loss: 1.0590 - acc: 0.6023    \n",
      "Epoch 16/100\n",
      "28709/28709 [==============================] - 34s - loss: 1.0236 - acc: 0.6177    \n",
      "Epoch 17/100\n",
      "28709/28709 [==============================] - 34s - loss: 1.0268 - acc: 0.6173    \n",
      "Epoch 18/100\n",
      "28709/28709 [==============================] - 34s - loss: 0.9668 - acc: 0.6397    \n",
      "Epoch 19/100\n",
      "28709/28709 [==============================] - 35s - loss: 0.9273 - acc: 0.6548    \n",
      "Epoch 20/100\n",
      "28709/28709 [==============================] - 36s - loss: 0.9039 - acc: 0.6622    \n",
      "Epoch 21/100\n",
      "28709/28709 [==============================] - 36s - loss: 0.8887 - acc: 0.6683    \n",
      "Epoch 22/100\n",
      "28709/28709 [==============================] - 36s - loss: 0.8421 - acc: 0.6918    \n",
      "Epoch 23/100\n",
      "28709/28709 [==============================] - 35s - loss: 0.7838 - acc: 0.7117    \n",
      "Epoch 24/100\n",
      "28709/28709 [==============================] - 35s - loss: 0.7912 - acc: 0.7088    \n",
      "Epoch 25/100\n",
      "28709/28709 [==============================] - 34s - loss: 0.7267 - acc: 0.7322    \n",
      "Epoch 26/100\n",
      "28709/28709 [==============================] - 34s - loss: 0.6907 - acc: 0.7447    \n",
      "Epoch 27/100\n",
      "28709/28709 [==============================] - 34s - loss: 0.6659 - acc: 0.7563    \n",
      "Epoch 28/100\n",
      "28709/28709 [==============================] - 34s - loss: 0.6130 - acc: 0.7749    \n",
      "Epoch 29/100\n",
      "28709/28709 [==============================] - 35s - loss: 0.6069 - acc: 0.7786    \n",
      "Epoch 30/100\n",
      "28709/28709 [==============================] - 37s - loss: 0.5861 - acc: 0.7825    \n",
      "Epoch 31/100\n",
      "28709/28709 [==============================] - 37s - loss: 0.5974 - acc: 0.7763    \n",
      "Epoch 32/100\n",
      "28709/28709 [==============================] - 36s - loss: 0.4933 - acc: 0.8186    \n",
      "Epoch 33/100\n",
      "28709/28709 [==============================] - 35s - loss: 0.4764 - acc: 0.8236    \n",
      "Epoch 34/100\n",
      "28709/28709 [==============================] - 35s - loss: 0.4553 - acc: 0.8327    \n",
      "Epoch 35/100\n",
      "28709/28709 [==============================] - 35s - loss: 0.4439 - acc: 0.8367    \n",
      "Epoch 36/100\n",
      "28709/28709 [==============================] - 66s - loss: 0.4376 - acc: 0.8398    \n",
      "Epoch 37/100\n",
      "28709/28709 [==============================] - 62s - loss: 0.4183 - acc: 0.8463    \n",
      "Epoch 38/100\n",
      "28709/28709 [==============================] - 34s - loss: 0.3852 - acc: 0.8616    \n",
      "Epoch 39/100\n",
      "28709/28709 [==============================] - 34s - loss: 0.3155 - acc: 0.8870    \n",
      "Epoch 40/100\n",
      "28709/28709 [==============================] - 34s - loss: 0.3064 - acc: 0.8912    \n",
      "Epoch 41/100\n",
      "28709/28709 [==============================] - 35s - loss: 0.3024 - acc: 0.8902    \n",
      "Epoch 42/100\n",
      "28709/28709 [==============================] - 34s - loss: 0.2630 - acc: 0.9050    \n",
      "Epoch 43/100\n",
      "28709/28709 [==============================] - 34s - loss: 0.2852 - acc: 0.8967    \n",
      "Epoch 44/100\n",
      "28709/28709 [==============================] - 34s - loss: 0.2329 - acc: 0.9163    \n",
      "Epoch 45/100\n",
      "28709/28709 [==============================] - 34s - loss: 0.2743 - acc: 0.8996    \n",
      "Epoch 46/100\n",
      "28709/28709 [==============================] - 34s - loss: 0.2705 - acc: 0.9010    \n",
      "Epoch 47/100\n",
      "28709/28709 [==============================] - 34s - loss: 0.2481 - acc: 0.9104    \n",
      "Epoch 48/100\n",
      "28709/28709 [==============================] - 34s - loss: 0.2112 - acc: 0.9258    \n",
      "Epoch 49/100\n",
      "28709/28709 [==============================] - 34s - loss: 0.1893 - acc: 0.9313    \n",
      "Epoch 50/100\n",
      "28709/28709 [==============================] - 34s - loss: 0.2148 - acc: 0.9243    \n",
      "Epoch 51/100\n",
      "28709/28709 [==============================] - 34s - loss: 0.2157 - acc: 0.9240    \n",
      "Epoch 52/100\n",
      "28709/28709 [==============================] - 34s - loss: 0.1920 - acc: 0.9325    \n",
      "Epoch 53/100\n",
      "28709/28709 [==============================] - 34s - loss: 0.1655 - acc: 0.9417    \n",
      "Epoch 54/100\n",
      "28709/28709 [==============================] - 34s - loss: 0.1946 - acc: 0.9317    \n",
      "Epoch 55/100\n",
      "28709/28709 [==============================] - 34s - loss: 0.1775 - acc: 0.9382    \n",
      "Epoch 56/100\n",
      "28709/28709 [==============================] - 34s - loss: 0.1746 - acc: 0.9381    \n",
      "Epoch 57/100\n",
      "28709/28709 [==============================] - 34s - loss: 0.1401 - acc: 0.9510    \n",
      "Epoch 58/100\n",
      "28709/28709 [==============================] - 34s - loss: 0.1285 - acc: 0.9565    \n",
      "Epoch 59/100\n",
      "28709/28709 [==============================] - 34s - loss: 0.0927 - acc: 0.9675    \n",
      "Epoch 60/100\n",
      "28709/28709 [==============================] - 34s - loss: 0.1034 - acc: 0.9643    \n",
      "Epoch 61/100\n",
      "28709/28709 [==============================] - 34s - loss: 0.1171 - acc: 0.9590    \n",
      "Epoch 62/100\n",
      "28709/28709 [==============================] - 34s - loss: 0.1458 - acc: 0.9489    \n",
      "Epoch 63/100\n",
      "28709/28709 [==============================] - 34s - loss: 0.2203 - acc: 0.9234    \n",
      "Epoch 64/100\n",
      "28709/28709 [==============================] - 34s - loss: 0.1088 - acc: 0.9622    \n",
      "Epoch 65/100\n",
      "28709/28709 [==============================] - 34s - loss: 0.1149 - acc: 0.9596    \n",
      "Epoch 66/100\n",
      "28709/28709 [==============================] - 34s - loss: 0.0999 - acc: 0.9672    \n",
      "Epoch 67/100\n",
      "28709/28709 [==============================] - 34s - loss: 0.0860 - acc: 0.9698    \n",
      "Epoch 68/100\n",
      "28709/28709 [==============================] - 34s - loss: 0.0780 - acc: 0.9729    \n",
      "Epoch 69/100\n",
      "28709/28709 [==============================] - 34s - loss: 0.0949 - acc: 0.9679    \n",
      "Epoch 70/100\n",
      "28709/28709 [==============================] - 34s - loss: 0.0755 - acc: 0.9750    \n",
      "Epoch 71/100\n",
      "28709/28709 [==============================] - 34s - loss: 0.1493 - acc: 0.9464    \n",
      "Epoch 72/100\n",
      "28709/28709 [==============================] - 34s - loss: 0.0904 - acc: 0.9682    \n",
      "Epoch 73/100\n",
      "28709/28709 [==============================] - 34s - loss: 0.0716 - acc: 0.9761    \n",
      "Epoch 74/100\n",
      "28709/28709 [==============================] - 34s - loss: 0.0687 - acc: 0.9773    \n",
      "Epoch 75/100\n",
      "28709/28709 [==============================] - 34s - loss: 0.1845 - acc: 0.9364    \n",
      "Epoch 76/100\n",
      "28709/28709 [==============================] - 34s - loss: 0.0935 - acc: 0.9663    \n",
      "Epoch 77/100\n",
      "28709/28709 [==============================] - 34s - loss: 0.1054 - acc: 0.9635    \n",
      "Epoch 78/100\n",
      "28709/28709 [==============================] - 34s - loss: 0.0819 - acc: 0.9729    \n",
      "Epoch 79/100\n",
      "28709/28709 [==============================] - 34s - loss: 0.1780 - acc: 0.9388    \n",
      "Epoch 80/100\n",
      "28709/28709 [==============================] - 34s - loss: 0.0866 - acc: 0.9709    \n",
      "Epoch 81/100\n",
      "28709/28709 [==============================] - 34s - loss: 0.0822 - acc: 0.9731    \n",
      "Epoch 82/100\n",
      "28709/28709 [==============================] - 34s - loss: 0.0424 - acc: 0.9865    \n",
      "Epoch 83/100\n",
      "28709/28709 [==============================] - 34s - loss: 0.0365 - acc: 0.9879    \n",
      "Epoch 84/100\n",
      "28709/28709 [==============================] - 34s - loss: 0.0972 - acc: 0.9645    \n",
      "Epoch 85/100\n"
     ]
    },
    {
     "name": "stdout",
     "output_type": "stream",
     "text": [
      "28709/28709 [==============================] - 34s - loss: 0.1201 - acc: 0.9586    \n",
      "Epoch 86/100\n",
      "28709/28709 [==============================] - 34s - loss: 0.1331 - acc: 0.9536    \n",
      "Epoch 87/100\n",
      "28709/28709 [==============================] - 35s - loss: 0.0617 - acc: 0.9788    \n",
      "Epoch 88/100\n",
      "28709/28709 [==============================] - 34s - loss: 0.1028 - acc: 0.9649    \n",
      "Epoch 89/100\n",
      "28709/28709 [==============================] - 34s - loss: 0.0809 - acc: 0.9728    \n",
      "Epoch 90/100\n",
      "28709/28709 [==============================] - 34s - loss: 0.0508 - acc: 0.9827    \n",
      "Epoch 91/100\n",
      "28709/28709 [==============================] - 34s - loss: 0.0431 - acc: 0.9857    \n",
      "Epoch 92/100\n",
      "28709/28709 [==============================] - 34s - loss: 0.0933 - acc: 0.9666    \n",
      "Epoch 93/100\n",
      "28709/28709 [==============================] - 34s - loss: 0.0536 - acc: 0.9815    \n",
      "Epoch 94/100\n",
      "28709/28709 [==============================] - 34s - loss: 0.0484 - acc: 0.9837    \n",
      "Epoch 95/100\n",
      "28709/28709 [==============================] - 34s - loss: 0.0354 - acc: 0.9885    \n",
      "Epoch 96/100\n",
      "28709/28709 [==============================] - 34s - loss: 0.0635 - acc: 0.9784    \n",
      "Epoch 97/100\n",
      "28709/28709 [==============================] - 34s - loss: 0.0482 - acc: 0.9836    \n",
      "Epoch 98/100\n",
      "28709/28709 [==============================] - 34s - loss: 0.1032 - acc: 0.9658    \n",
      "Epoch 99/100\n",
      "28709/28709 [==============================] - 34s - loss: 0.0521 - acc: 0.9830    \n",
      "Epoch 100/100\n",
      "28709/28709 [==============================] - 34s - loss: 0.0401 - acc: 0.9869    \n"
     ]
    },
    {
     "data": {
      "text/plain": [
       "<keras.callbacks.History at 0x12e46d4d0>"
      ]
     },
     "execution_count": 8,
     "metadata": {},
     "output_type": "execute_result"
    }
   ],
   "source": [
    "model.compile(loss=keras.losses.categorical_crossentropy,\n",
    "              optimizer=keras.optimizers.Adam(),\n",
    "              metrics=['accuracy'])\n",
    "\n",
    "model.fit(x=x_train,y=y_train,\n",
    "          batch_size=512,\n",
    "          epochs=100,\n",
    "          verbose=1)"
   ]
  },
  {
   "cell_type": "code",
   "execution_count": 12,
   "metadata": {
    "scrolled": true
   },
   "outputs": [
    {
     "name": "stdout",
     "output_type": "stream",
     "text": [
      "Test loss: 4.26972767183\n",
      "Test accuracy: 0.561994984684\n"
     ]
    }
   ],
   "source": [
    "score = model.evaluate(x_test, y_test, verbose=0)\n",
    "print('Test loss:', score[0])\n",
    "print('Test accuracy:', score[1])"
   ]
  },
  {
   "cell_type": "code",
   "execution_count": 14,
   "metadata": {
    "scrolled": true
   },
   "outputs": [],
   "source": [
    "from keras.preprocessing import image"
   ]
  },
  {
   "cell_type": "code",
   "execution_count": 29,
   "metadata": {
    "scrolled": false
   },
   "outputs": [
    {
     "name": "stdout",
     "output_type": "stream",
     "text": [
      "Populating the interactive namespace from numpy and matplotlib\n"
     ]
    },
    {
     "data": {
      "image/png": "[encoded data removed]",
      "text/plain": [
       "<matplotlib.figure.Figure at 0x133232610>"
      ]
     },
     "metadata": {},
     "output_type": "display_data"
    },
    {
     "data": {
      "image/png": "[encoded data removed]",
      "text/plain": [
       "<matplotlib.figure.Figure at 0x13323de90>"
      ]
     },
     "metadata": {},
     "output_type": "display_data"
    }
   ],
   "source": [
    "import matplotlib.pyplot as plt\n",
    "%pylab inline\n",
    "img = image.load_img(\"/Users/karthik/Documents/Screen Shot 2018-05-13 at 11.35.50 PM.png\", grayscale=True, target_size=(48, 48))\n",
    " \n",
    "x = image.img_to_array(img)\n",
    "x = np.expand_dims(x, axis = 0)\n",
    " \n",
    "x /= 255\n",
    " \n",
    "custom = model.predict(x)\n",
    "emotion_analysis(custom[0])\n",
    " \n",
    "x = np.array(x, 'float32')\n",
    "x = x.reshape([48, 48]);\n",
    " \n",
    "plt.gray()\n",
    "plt.imshow(x)\n",
    "plt.show()"
   ]
  },
  {
   "cell_type": "code",
   "execution_count": 17,
   "metadata": {},
   "outputs": [],
   "source": [
    "def emotion_analysis(emotions):\n",
    "    objects = ('angry', 'disgust', 'fear', 'happy', 'sad', 'surprise', 'neutral')\n",
    "    y_pos = np.arange(len(objects))\n",
    "\n",
    "    plt.bar(y_pos, emotions*100, align='center', alpha=0.5)\n",
    "    plt.xticks(y_pos, objects)\n",
    "    plt.ylabel('percentage')\n",
    "    plt.title('emotion')\n",
    "\n",
    "    plt.show()"
   ]
  },
  {
   "cell_type": "code",
   "execution_count": 30,
   "metadata": {},
   "outputs": [
    {
     "name": "stdout",
     "output_type": "stream",
     "text": [
      "Saved model to disk\n"
     ]
    }
   ],
   "source": [
    "model.save_weights(\"model_cnn3.h5\")\n",
    "print(\"Saved model to disk\")"
   ]
  },
  {
   "cell_type": "code",
   "execution_count": 31,
   "metadata": {},
   "outputs": [],
   "source": [
    "model_json = model.to_json()\n",
    "with open(\"model_cnn3.json\", \"w\") as json_file:\n",
    "    json_file.write(model_json)"
   ]
  },
  {
   "cell_type": "code",
   "execution_count": 37,
   "metadata": {},
   "outputs": [],
   "source": [
    "json_file = open('./model_isseu.json', 'r')\n",
    "loaded_model_json = json_file.read()\n",
    "json_file.close()\n",
    "loaded_model = model_from_json(loaded_model_json)"
   ]
  },
  {
   "cell_type": "code",
   "execution_count": 38,
   "metadata": {},
   "outputs": [],
   "source": [
    "loaded_model.load_weights('./model_isseu.h5')"
   ]
  },
  {
   "cell_type": "code",
   "execution_count": 57,
   "metadata": {},
   "outputs": [],
   "source": [
    "img = image.load_img(\"/Users/karthik/Documents/Screen Shot 2018-05-13 at 11.55.15 PM.png\", grayscale=True, target_size=(48, 48))\n",
    " \n",
    "x = image.img_to_array(img)"
   ]
  },
  {
   "cell_type": "code",
   "execution_count": 58,
   "metadata": {},
   "outputs": [
    {
     "data": {
      "text/plain": [
       "(48, 48, 1)"
      ]
     },
     "execution_count": 58,
     "metadata": {},
     "output_type": "execute_result"
    }
   ],
   "source": [
    "x.shape"
   ]
  },
  {
   "cell_type": "code",
   "execution_count": 59,
   "metadata": {},
   "outputs": [
    {
     "name": "stdout",
     "output_type": "stream",
     "text": [
      "(1, 48, 48, 1)\n"
     ]
    }
   ],
   "source": [
    "x = np.expand_dims(x, axis = 0)\n",
    "print(x.shape)\n",
    "x /= 255\n",
    " \n",
    "custom = loaded_model.predict(x)"
   ]
  },
  {
   "cell_type": "code",
   "execution_count": 60,
   "metadata": {},
   "outputs": [
    {
     "data": {
      "text/plain": [
       "(1, 48, 48, 1)"
      ]
     },
     "execution_count": 60,
     "metadata": {},
     "output_type": "execute_result"
    }
   ],
   "source": [
    "x.shape"
   ]
  },
  {
   "cell_type": "code",
   "execution_count": 61,
   "metadata": {},
   "outputs": [],
   "source": [
    "x = np.expand_dims(x, axis = 4)"
   ]
  },
  {
   "cell_type": "code",
   "execution_count": 62,
   "metadata": {},
   "outputs": [
    {
     "data": {
      "text/plain": [
       "(1, 48, 48, 1, 1)"
      ]
     },
     "execution_count": 62,
     "metadata": {},
     "output_type": "execute_result"
    }
   ],
   "source": [
    "x.shape"
   ]
  },
  {
   "cell_type": "code",
   "execution_count": null,
   "metadata": {},
   "outputs": [],
   "source": []
  }
 ],
 "metadata": {
  "kernelspec": {
   "display_name": "Python 2",
   "language": "python",
   "name": "python2"
  },
  "language_info": {
   "codemirror_mode": {
    "name": "ipython",
    "version": 2
   },
   "file_extension": ".py",
   "mimetype": "text/x-python",
   "name": "python",
   "nbconvert_exporter": "python",
   "pygments_lexer": "ipython2",
   "version": "2.7.14"
  }
 },
 "nbformat": 4,
 "nbformat_minor": 2
}
