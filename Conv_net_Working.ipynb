{
 "cells": [
  {
   "cell_type": "code",
   "execution_count": 1,
   "metadata": {},
   "outputs": [
    {
     "name": "stdout",
     "output_type": "stream",
     "text": [
      "number of instances:  35888\n",
      "(28709, 2304)\n",
      "(3589, 2304)\n",
      "(28709, 1, 7)\n",
      "(3589, 1, 7)\n",
      "x_train shape: (28709, 48, 48, 1)\n",
      "y_train shape: (28709, 1, 7)\n",
      "28709 train samples\n",
      "3589 test samples\n"
     ]
    }
   ],
   "source": [
    "from __future__ import print_function\n",
    "import numpy as np \n",
    "import time\n",
    "import plaidml.keras \n",
    "plaidml.keras.install_backend()\n",
    "import keras\n",
    "from keras.datasets import mnist\n",
    "from keras.models import Sequential\n",
    "from keras.layers import Dense, Dropout, Flatten\n",
    "from keras.layers import Conv2D, MaxPooling2D\n",
    "from keras import backend as K\n",
    "\n",
    "batch_size = 128\n",
    "num_classes = 7\n",
    "epochs = 15\n",
    "\n",
    "# input image dimensions\n",
    "img_rows, img_cols = 48, 48\n",
    "\n",
    "# the data, split between train and test sets\n",
    "\n",
    "with open(\"./data/fer2013/fer2013.csv\") as f:\n",
    "    content = f.readlines()\n",
    " \n",
    "    lines = np.array(content)\n",
    " \n",
    "num_of_instances = lines.size\n",
    "print(\"number of instances: \",num_of_instances)\n",
    "\n",
    "x_train, y_train, x_test, y_test = [], [], [], []\n",
    " \n",
    "for i in range(1,num_of_instances):\n",
    " try:\n",
    "  emotion, img, usage = lines[i].split(\",\")\n",
    "   \n",
    "  val = img.split(\" \")\n",
    "  pixels = np.array(val, 'float32')\n",
    " \n",
    "  emotion = keras.utils.np_utils.to_categorical(emotion, 7)\n",
    " \n",
    "  if 'Training' in usage:\n",
    "   y_train.append(emotion)\n",
    "   x_train.append(pixels)\n",
    "  elif 'PublicTest' in usage:\n",
    "   y_test.append(emotion)\n",
    "   x_test.append(pixels)\n",
    " except:\n",
    "  print(\"\", end=\"\")\n",
    "/\n",
    "x_train = np.array(x_train)\n",
    "y_train = np.array(y_train)\n",
    "x_test = np.array(x_test)\n",
    "y_test = np.array(y_test)\n",
    "\n",
    "print(x_train.shape)\n",
    "print(x_test.shape)\n",
    "print(y_train.shape)\n",
    "print(y_test.shape)\n",
    "\n",
    "if K.image_data_format() == 'channels_first':\n",
    "    x_train = x_train.reshape(x_train.shape[0], 1, img_rows, img_cols)\n",
    "    x_test = x_test.reshape(x_test.shape[0], 1, img_rows, img_cols)\n",
    "    input_shape = (1, img_rows, img_cols)\n",
    "else:\n",
    "    x_train = x_train.reshape(x_train.shape[0], img_rows, img_cols, 1)\n",
    "    x_test = x_test.reshape(x_test.shape[0], img_rows, img_cols, 1)\n",
    "    input_shape = (img_rows, img_cols, 1)\n",
    "\n",
    "x_train = x_train.astype('float32')\n",
    "x_test = x_test.astype('float32')\n",
    "x_train /= 255\n",
    "x_test /= 255\n",
    "print('x_train shape:', x_train.shape)\n",
    "print('y_train shape:', y_train.shape)\n",
    "print(x_train.shape[0], 'train samples')\n",
    "print(x_test.shape[0], 'test samples')\n",
    "\n",
    "# convert class vectors to binary class matrices\n",
    "#y_train = keras.utils.np_utils.to_categorical(y_train, num_classes)"
   ]
  },
  {
   "cell_type": "code",
   "execution_count": 2,
   "metadata": {},
   "outputs": [],
   "source": [
    "from numpy.random import seed\n",
    "seed(1)"
   ]
  },
  {
   "cell_type": "code",
   "execution_count": 3,
   "metadata": {
    "scrolled": true
   },
   "outputs": [
    {
     "name": "stderr",
     "output_type": "stream",
     "text": [
      "INFO:plaidml:Opening device \"amd_radeon_pro_455_compute_engine.0\"\n"
     ]
    },
    {
     "name": "stdout",
     "output_type": "stream",
     "text": [
      "x_train shape: (28709, 48, 48, 1)\n",
      "y_train shape: (28709, 1, 7)\n",
      "Epoch 1/100\n"
     ]
    },
    {
     "name": "stderr",
     "output_type": "stream",
     "text": [
      "INFO:plaidml:Analyzing Ops: 135 of 454 operations complete\n"
     ]
    },
    {
     "name": "stdout",
     "output_type": "stream",
     "text": [
      "28672/28709 [============================>.] - ETA: 0s - loss: 1.8575 - acc: 0.2217"
     ]
    },
    {
     "name": "stderr",
     "output_type": "stream",
     "text": [
      "INFO:plaidml:Analyzing Ops: 153 of 454 operations complete\n"
     ]
    },
    {
     "name": "stdout",
     "output_type": "stream",
     "text": [
      "28709/28709 [==============================] - 128s - loss: 1.8575 - acc: 0.2217   \n",
      "Epoch 2/100\n",
      "28709/28709 [==============================] - 115s - loss: 1.8336 - acc: 0.2376   \n",
      "Epoch 3/100\n",
      "28709/28709 [==============================] - 116s - loss: 1.8072 - acc: 0.2414   \n",
      "Epoch 4/100\n",
      "28709/28709 [==============================] - 116s - loss: 1.7497 - acc: 0.2806   \n",
      "Epoch 5/100\n",
      "28709/28709 [==============================] - 124s - loss: 1.6383 - acc: 0.3526   \n",
      "Epoch 6/100\n",
      "28709/28709 [==============================] - 119s - loss: 1.5385 - acc: 0.4002   \n",
      "Epoch 7/100\n",
      "28709/28709 [==============================] - 117s - loss: 1.4733 - acc: 0.4314   \n",
      "Epoch 8/100\n",
      "28709/28709 [==============================] - 116s - loss: 1.4204 - acc: 0.4560   \n",
      "Epoch 9/100\n",
      "28709/28709 [==============================] - 116s - loss: 1.3781 - acc: 0.4714   \n",
      "Epoch 10/100\n",
      "28709/28709 [==============================] - 117s - loss: 1.3274 - acc: 0.4937   \n",
      "Epoch 11/100\n",
      "28709/28709 [==============================] - 117s - loss: 1.2990 - acc: 0.5032   \n",
      "Epoch 12/100\n",
      "28709/28709 [==============================] - 115s - loss: 1.2787 - acc: 0.5149   \n",
      "Epoch 13/100\n",
      "28709/28709 [==============================] - 115s - loss: 1.2458 - acc: 0.5261   \n",
      "Epoch 14/100\n",
      "28709/28709 [==============================] - 119s - loss: 1.2204 - acc: 0.5340   \n",
      "Epoch 15/100\n",
      "28709/28709 [==============================] - 121s - loss: 1.2033 - acc: 0.5442   \n",
      "Epoch 16/100\n",
      "28709/28709 [==============================] - 119s - loss: 1.1827 - acc: 0.5522   \n",
      "Epoch 17/100\n",
      "28709/28709 [==============================] - 116s - loss: 1.1613 - acc: 0.5605   \n",
      "Epoch 18/100\n",
      "28709/28709 [==============================] - 115s - loss: 1.1503 - acc: 0.5655   \n",
      "Epoch 19/100\n",
      "28709/28709 [==============================] - 115s - loss: 1.1284 - acc: 0.5727   \n",
      "Epoch 20/100\n",
      "28709/28709 [==============================] - 115s - loss: 1.1065 - acc: 0.5853   \n",
      "Epoch 21/100\n",
      "28709/28709 [==============================] - 115s - loss: 1.0994 - acc: 0.5873   \n",
      "Epoch 22/100\n",
      "28709/28709 [==============================] - 115s - loss: 1.0750 - acc: 0.5931   \n",
      "Epoch 23/100\n",
      "28709/28709 [==============================] - 116s - loss: 1.0683 - acc: 0.5991   \n",
      "Epoch 24/100\n",
      "28709/28709 [==============================] - 115s - loss: 1.0518 - acc: 0.6049   \n",
      "Epoch 25/100\n",
      "28709/28709 [==============================] - 115s - loss: 1.0238 - acc: 0.6155   \n",
      "Epoch 26/100\n",
      "28709/28709 [==============================] - 115s - loss: 1.0054 - acc: 0.6205   \n",
      "Epoch 27/100\n",
      "28709/28709 [==============================] - 115s - loss: 0.9905 - acc: 0.6287   \n",
      "Epoch 28/100\n",
      "28709/28709 [==============================] - 115s - loss: 0.9878 - acc: 0.6271   \n",
      "Epoch 29/100\n",
      "28709/28709 [==============================] - 115s - loss: 0.9665 - acc: 0.6394   \n",
      "Epoch 30/100\n",
      "28709/28709 [==============================] - 115s - loss: 0.9451 - acc: 0.6457   \n",
      "Epoch 31/100\n",
      "28709/28709 [==============================] - 115s - loss: 0.9393 - acc: 0.6451   \n",
      "Epoch 32/100\n",
      "28709/28709 [==============================] - 115s - loss: 0.9170 - acc: 0.6535   \n",
      "Epoch 33/100\n",
      "28709/28709 [==============================] - 115s - loss: 0.9116 - acc: 0.6553   \n",
      "Epoch 34/100\n",
      "28709/28709 [==============================] - 115s - loss: 0.8976 - acc: 0.6627   \n",
      "Epoch 35/100\n",
      "28709/28709 [==============================] - 115s - loss: 0.8829 - acc: 0.6650   \n",
      "Epoch 36/100\n",
      "28709/28709 [==============================] - 115s - loss: 0.8648 - acc: 0.6748   \n",
      "Epoch 37/100\n",
      "28709/28709 [==============================] - 115s - loss: 0.8362 - acc: 0.6820   \n",
      "Epoch 38/100\n",
      "28709/28709 [==============================] - 115s - loss: 0.8364 - acc: 0.6812   \n",
      "Epoch 39/100\n",
      "28709/28709 [==============================] - 115s - loss: 0.8231 - acc: 0.6918   \n",
      "Epoch 40/100\n",
      "28709/28709 [==============================] - 115s - loss: 0.8026 - acc: 0.6960   \n",
      "Epoch 41/100\n",
      "28709/28709 [==============================] - 115s - loss: 0.7864 - acc: 0.7038   \n",
      "Epoch 42/100\n",
      "28709/28709 [==============================] - 115s - loss: 0.7824 - acc: 0.7030   \n",
      "Epoch 43/100\n",
      "28709/28709 [==============================] - 115s - loss: 0.7529 - acc: 0.7153   \n",
      "Epoch 44/100\n",
      "28709/28709 [==============================] - 115s - loss: 0.7561 - acc: 0.7130   \n",
      "Epoch 45/100\n",
      "28709/28709 [==============================] - 115s - loss: 0.7456 - acc: 0.7166   \n",
      "Epoch 46/100\n",
      "28709/28709 [==============================] - 115s - loss: 0.7347 - acc: 0.7227   \n",
      "Epoch 47/100\n",
      "28709/28709 [==============================] - 115s - loss: 0.6963 - acc: 0.7398   \n",
      "Epoch 48/100\n",
      "28709/28709 [==============================] - 115s - loss: 0.7034 - acc: 0.7322   \n",
      "Epoch 49/100\n",
      "28709/28709 [==============================] - 115s - loss: 0.7001 - acc: 0.7346   \n",
      "Epoch 50/100\n",
      "28709/28709 [==============================] - 115s - loss: 0.6590 - acc: 0.7480   \n",
      "Epoch 51/100\n",
      "28709/28709 [==============================] - 115s - loss: 0.6892 - acc: 0.7406   \n",
      "Epoch 52/100\n",
      "28709/28709 [==============================] - 115s - loss: 0.6663 - acc: 0.7492   \n",
      "Epoch 53/100\n",
      "28709/28709 [==============================] - 115s - loss: 0.6447 - acc: 0.7542   \n",
      "Epoch 54/100\n",
      "28709/28709 [==============================] - 115s - loss: 0.6455 - acc: 0.7568   \n",
      "Epoch 55/100\n",
      "28709/28709 [==============================] - 114s - loss: 0.6197 - acc: 0.7671   \n",
      "Epoch 56/100\n",
      "28709/28709 [==============================] - 115s - loss: 0.6168 - acc: 0.7664   \n",
      "Epoch 57/100\n",
      "28709/28709 [==============================] - 115s - loss: 0.5987 - acc: 0.7740   \n",
      "Epoch 58/100\n",
      "28709/28709 [==============================] - 115s - loss: 0.6023 - acc: 0.7708   \n",
      "Epoch 59/100\n",
      "28709/28709 [==============================] - 115s - loss: 0.6002 - acc: 0.7735   \n",
      "Epoch 60/100\n",
      "28709/28709 [==============================] - 115s - loss: 0.5649 - acc: 0.7862   \n",
      "Epoch 61/100\n",
      "28709/28709 [==============================] - 115s - loss: 0.5888 - acc: 0.7779   \n",
      "Epoch 62/100\n",
      "28709/28709 [==============================] - 115s - loss: 0.5600 - acc: 0.7884   \n",
      "Epoch 63/100\n",
      "28709/28709 [==============================] - 115s - loss: 0.5537 - acc: 0.7922   \n",
      "Epoch 64/100\n",
      "28709/28709 [==============================] - 115s - loss: 0.5314 - acc: 0.7998   \n",
      "Epoch 65/100\n",
      "28709/28709 [==============================] - 115s - loss: 0.5274 - acc: 0.8004   \n",
      "Epoch 66/100\n",
      "28709/28709 [==============================] - 115s - loss: 0.5184 - acc: 0.8045   \n",
      "Epoch 67/100\n",
      "28709/28709 [==============================] - 115s - loss: 0.5427 - acc: 0.7946   \n",
      "Epoch 68/100\n",
      "28709/28709 [==============================] - 115s - loss: 0.4976 - acc: 0.8108   \n",
      "Epoch 69/100\n",
      "28709/28709 [==============================] - 115s - loss: 0.5197 - acc: 0.8055   \n",
      "Epoch 70/100\n",
      "28709/28709 [==============================] - 115s - loss: 0.5275 - acc: 0.8008   \n",
      "Epoch 71/100\n",
      "28709/28709 [==============================] - 115s - loss: 0.5038 - acc: 0.8104   \n",
      "Epoch 72/100\n",
      "28709/28709 [==============================] - 115s - loss: 0.4867 - acc: 0.8162   \n",
      "Epoch 73/100\n",
      "28709/28709 [==============================] - 115s - loss: 0.5055 - acc: 0.8104   \n",
      "Epoch 74/100\n",
      "28709/28709 [==============================] - 115s - loss: 0.5012 - acc: 0.8131   \n",
      "Epoch 75/100\n",
      "28709/28709 [==============================] - 115s - loss: 0.4736 - acc: 0.8232   \n",
      "Epoch 76/100\n",
      "28709/28709 [==============================] - 115s - loss: 0.4608 - acc: 0.8284   \n",
      "Epoch 77/100\n",
      "28709/28709 [==============================] - 115s - loss: 0.4540 - acc: 0.8277   \n",
      "Epoch 78/100\n",
      "28709/28709 [==============================] - 115s - loss: 0.4320 - acc: 0.8365   \n",
      "Epoch 79/100\n",
      "28709/28709 [==============================] - 115s - loss: 0.4391 - acc: 0.8381   \n",
      "Epoch 80/100\n",
      "28709/28709 [==============================] - 115s - loss: 0.4346 - acc: 0.8370   \n",
      "Epoch 81/100\n",
      "28709/28709 [==============================] - 115s - loss: 0.4433 - acc: 0.8357   \n",
      "Epoch 82/100\n",
      "28709/28709 [==============================] - 115s - loss: 0.4143 - acc: 0.8441   \n",
      "Epoch 83/100\n",
      "28709/28709 [==============================] - 115s - loss: 0.4206 - acc: 0.8443   \n",
      "Epoch 84/100\n",
      "28709/28709 [==============================] - 115s - loss: 0.4204 - acc: 0.8426   \n",
      "Epoch 85/100\n"
     ]
    },
    {
     "name": "stdout",
     "output_type": "stream",
     "text": [
      "28709/28709 [==============================] - 115s - loss: 0.4030 - acc: 0.8495   \n",
      "Epoch 86/100\n",
      "28709/28709 [==============================] - 115s - loss: 0.4211 - acc: 0.8426   \n",
      "Epoch 87/100\n",
      "28709/28709 [==============================] - 115s - loss: 0.4437 - acc: 0.8348   \n",
      "Epoch 88/100\n",
      "28709/28709 [==============================] - 115s - loss: 0.4187 - acc: 0.8446   \n",
      "Epoch 89/100\n",
      "28709/28709 [==============================] - 115s - loss: 0.3945 - acc: 0.8516   \n",
      "Epoch 90/100\n",
      "28709/28709 [==============================] - 115s - loss: 0.3825 - acc: 0.8569   \n",
      "Epoch 91/100\n",
      "28709/28709 [==============================] - 115s - loss: 0.4027 - acc: 0.8502   \n",
      "Epoch 92/100\n",
      "28709/28709 [==============================] - 114s - loss: 0.3872 - acc: 0.8560   \n",
      "Epoch 93/100\n",
      "28709/28709 [==============================] - 115s - loss: 0.3728 - acc: 0.8605   \n",
      "Epoch 94/100\n",
      "28709/28709 [==============================] - 115s - loss: 0.3792 - acc: 0.8591   \n",
      "Epoch 95/100\n",
      "28709/28709 [==============================] - 115s - loss: 0.3776 - acc: 0.8596   \n",
      "Epoch 96/100\n",
      "28709/28709 [==============================] - 115s - loss: 0.3704 - acc: 0.8628   \n",
      "Epoch 97/100\n",
      "28709/28709 [==============================] - 115s - loss: 0.3547 - acc: 0.8673   \n",
      "Epoch 98/100\n",
      "28709/28709 [==============================] - 115s - loss: 0.3695 - acc: 0.8634   \n",
      "Epoch 99/100\n",
      "28709/28709 [==============================] - 114s - loss: 0.3435 - acc: 0.8711   \n",
      "Epoch 100/100\n",
      "28709/28709 [==============================] - 115s - loss: 0.3478 - acc: 0.8724   \n",
      "Test loss: 2.49991396202\n",
      "Test accuracy: 0.563388130407\n"
     ]
    }
   ],
   "source": [
    "print('x_train shape:', x_train.shape)\n",
    "print('y_train shape:', y_train.shape)\n",
    "y_train = y_train.reshape(len(x_train),7)\n",
    "y_test = y_test.reshape(len(x_test),7)\n",
    "model = Sequential()\n",
    "model.add(Conv2D(64, kernel_size=(5, 5),activation='relu',input_shape=input_shape))\n",
    "model.add(Conv2D(64, (3, 3), activation='relu'))ss\n",
    "model.add(MaxPooling2D(pool_size=(2, 2)))\n",
    "model.add(Dropout(0.25))\n",
    "\n",
    "\n",
    "model.add(Conv2D(64, (3, 3), activation='relu'))\n",
    "model.add(Conv2D(64, (3, 3), activation='relu'))\n",
    "model.add(MaxPooling2D(pool_size=(2,2), strides=(2, 2)))\n",
    "\n",
    "model.add(Conv2D(64, (3, 3), activation='relu'))\n",
    "model.add(Conv2D(64, (3, 3), activation='relu'))\n",
    "model.add(MaxPooling2D(pool_size=(2,2), strides=(2, 2)))\n",
    "\n",
    "model.add(Flatten())\n",
    "\n",
    "model.add(Dense(64, activation='relu'))\n",
    "model.add(Dropout(0.5))\n",
    "model.add(Dense(num_classes, activation='softmax'))\n",
    "\n",
    "model.compile(loss=keras.losses.categorical_crossentropy,\n",
    "              optimizer=keras.optimizers.Adam(),\n",
    "              metrics=['accuracy'])\n",
    "\n",
    "model.fit(x_train, y_train,\n",
    "          batch_size=512,\n",
    "          epochs=100,\n",
    "          verbose=1)"
   ]
  },
  {
   "cell_type": "code",
   "execution_count": 18,
   "metadata": {},
   "outputs": [
    {
     "name": "stdout",
     "output_type": "stream",
     "text": [
      "Test loss: 2.49991396202\n",
      "Test accuracy: 0.563388130407\n"
     ]
    }
   ],
   "source": [
    "score = model.evaluate(x_test, y_test, verbose=0)\n",
    "print('Test loss:', score[0])\n",
    "print('Test accuracy:', score[1])"
   ]
  },
  {
   "cell_type": "code",
   "execution_count": 11,
   "metadata": {
    "scrolled": true
   },
   "outputs": [],
   "source": [
    "from keras.preprocessing import image"
   ]
  },
  {
   "cell_type": "code",
   "execution_count": 33,
   "metadata": {
    "scrolled": false
   },
   "outputs": [
    {
     "name": "stdout",
     "output_type": "stream",
     "text": [
      "Populating the interactive namespace from numpy and matplotlib\n"
     ]
    },
    {
     "data": {
      "image/png": "[encoded data removed]",
      "text/plain": [
       "<matplotlib.figure.Figure at 0x1fc67a990>"
      ]
     },
     "metadata": {},
     "output_type": "display_data"
    },
    {
     "data": {
      "image/png": "[encoded data removed]",
      "text/plain": [
       "<matplotlib.figure.Figure at 0x1fd2afad0>"
      ]
     },
     "metadata": {},
     "output_type": "display_data"
    }
   ],
   "source": [
    "import matplotlib.pyplot as plt\n",
    "%pylab inline\n",
    "img = image.load_img(\"/Users/karthik/Documents/Screen Shot 2018-05-14 at 12.12.57 AM.png\", grayscale=True, target_size=(48, 48))\n",
    " \n",
    "x = image.img_to_array(img)\n",
    "x = np.expand_dims(x, axis = 0)\n",
    " \n",
    "x /= 255\n",
    " \n",
    "custom = model.predict(x)\n",
    "emotion_analysis(custom[0])\n",
    " \n",
    "x = np.array(x, 'float32')\n",
    "x = x.reshape([48, 48]);\n",
    " \n",
    "plt.gray()\n",
    "plt.imshow(x)\n",
    "plt.show()"
   ]
  },
  {
   "cell_type": "code",
   "execution_count": 6,
   "metadata": {},
   "outputs": [],
   "source": [
    "def emotion_analysis(emotions):\n",
    "    objects = ('angry', 'disgust', 'fear', 'happy', 'sad', 'surprise', 'neutral')\n",
    "    y_pos = np.arange(len(objects))\n",
    "\n",
    "    plt.bar(y_pos, emotions, align='center', alpha=0.5)\n",
    "    plt.xticks(y_pos, objects)\n",
    "    plt.ylabel('percentage')\n",
    "    plt.title('emotion')\n",
    "\n",
    "    plt.show()\n",
    "\n"
   ]
  },
  {
   "cell_type": "code",
   "execution_count": 55,
   "metadata": {},
   "outputs": [
    {
     "name": "stdout",
     "output_type": "stream",
     "text": [
      "Saved model to disk\n"
     ]
    }
   ],
   "source": [
    "model.save_weights(\"model_100_epoch_512.h5\")\n",
    "print(\"Saved model to disk\")"
   ]
  },
  {
   "cell_type": "code",
   "execution_count": 56,
   "metadata": {},
   "outputs": [],
   "source": [
    "model_json = model.to_json()\n",
    "with open(\"model_100_epoch_512.json\", \"w\") as json_file:\n",
    "    json_file.write(model_json)"
   ]
  },
  {
   "cell_type": "code",
   "execution_count": null,
   "metadata": {},
   "outputs": [],
   "source": []
  }
 ],
 "metadata": {
  "kernelspec": {
   "display_name": "Python 2",
   "language": "python",
   "name": "python2"
  },
  "language_info": {
   "codemirror_mode": {
    "name": "ipython",
    "version": 2
   },
   "file_extension": ".py",
   "mimetype": "text/x-python",
   "name": "python",
   "nbconvert_exporter": "python",
   "pygments_lexer": "ipython2",
   "version": "2.7.14"
  }
 },
 "nbformat": 4,
 "nbformat_minor": 2
}
