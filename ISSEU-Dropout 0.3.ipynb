{
 "cells": [
  {
   "cell_type": "code",
   "execution_count": 1,
   "metadata": {},
   "outputs": [],
   "source": [
    "from __future__ import print_function\n",
    "import numpy as np \n",
    "import time\n",
    "import plaidml.keras \n",
    "plaidml.keras.install_backend()\n",
    "import keras\n",
    "from keras.datasets import mnist\n",
    "from keras.models import Sequential\n",
    "from keras.layers import Dense, Dropout, Flatten\n",
    "from keras.layers import Conv2D, MaxPooling2D\n",
    "from keras import backend as K"
   ]
  },
  {
   "cell_type": "code",
   "execution_count": 2,
   "metadata": {},
   "outputs": [
    {
     "name": "stdout",
     "output_type": "stream",
     "text": [
      "number of instances:  35888\n",
      "(28709, 2304)\n",
      "(3589, 2304)\n",
      "(28709, 1, 7)\n",
      "(3589, 1, 7)\n",
      "x_train shape: (28709, 48, 48, 1)\n",
      "y_train shape: (28709, 1, 7)\n",
      "28709 train samples\n",
      "3589 test samples\n"
     ]
    }
   ],
   "source": [
    "batch_size = 128\n",
    "num_classes = 7\n",
    "epochs = 15\n",
    "\n",
    "# input image dimensions\n",
    "img_rows, img_cols = 48, 48\n",
    "\n",
    "# the data, split between train and test sets\n",
    "\n",
    "with open(\"./data/fer2013/fer2013.csv\") as f:\n",
    "    content = f.readlines()\n",
    " \n",
    "    lines = np.array(content)\n",
    " \n",
    "num_of_instances = lines.size\n",
    "print(\"number of instances: \",num_of_instances)\n",
    "\n",
    "x_train, y_train, x_test, y_test = [], [], [], []\n",
    " \n",
    "for i in range(1,num_of_instances):\n",
    " try:\n",
    "  emotion, img, usage = lines[i].split(\",\")\n",
    "   \n",
    "  val = img.split(\" \")\n",
    "  pixels = np.array(val, 'float32')\n",
    " \n",
    "  emotion = keras.utils.np_utils.to_categorical(emotion, 7)\n",
    " \n",
    "  if 'Training' in usage:\n",
    "   y_train.append(emotion)\n",
    "   x_train.append(pixels)\n",
    "  elif 'PublicTest' in usage:\n",
    "   y_test.append(emotion)\n",
    "   x_test.append(pixels)\n",
    " except:\n",
    "  print(\"\", end=\"\")\n",
    "/\n",
    "x_train = np.array(x_train)\n",
    "y_train = np.array(y_train)\n",
    "x_test = np.array(x_test)\n",
    "y_test = np.array(y_test)\n",
    "\n",
    "print(x_train.shape)\n",
    "print(x_test.shape)\n",
    "print(y_train.shape)\n",
    "print(y_test.shape)\n",
    "\n",
    "if K.image_data_format() == 'channels_first':\n",
    "    x_train = x_train.reshape(x_train.shape[0], 1, img_rows, img_cols)\n",
    "    x_test = x_test.reshape(x_test.shape[0], 1, img_rows, img_cols)\n",
    "    input_shape = (1, img_rows, img_cols)\n",
    "else:\n",
    "    x_train = x_train.reshape(x_train.shape[0], img_rows, img_cols, 1)\n",
    "    x_test = x_test.reshape(x_test.shape[0], img_rows, img_cols, 1)\n",
    "    input_shape = (img_rows, img_cols, 1)\n",
    "\n",
    "x_train = x_train.astype('float32')\n",
    "x_test = x_test.astype('float32')\n",
    "x_train /= 255\n",
    "x_test /= 255\n",
    "print('x_train shape:', x_train.shape)\n",
    "print('y_train shape:', y_train.shape)\n",
    "print(x_train.shape[0], 'train samples')\n",
    "print(x_test.shape[0], 'test samples')\n",
    "\n",
    "# convert class vectors to binary class matrices\n",
    "#y_train = keras.utils.np_utils.to_categorical(y_train, num_classes)"
   ]
  },
  {
   "cell_type": "code",
   "execution_count": 3,
   "metadata": {},
   "outputs": [],
   "source": [
    "from numpy.random import seed\n",
    "seed(1)"
   ]
  },
  {
   "cell_type": "code",
   "execution_count": 9,
   "metadata": {},
   "outputs": [],
   "source": [
    "Sequential.fit?"
   ]
  },
  {
   "cell_type": "code",
   "execution_count": 10,
   "metadata": {},
   "outputs": [
    {
     "name": "stdout",
     "output_type": "stream",
     "text": [
      "x_train shape: (28709, 48, 48, 1)\n",
      "y_train shape: (28709, 1, 7)\n",
      "x_train shape: (28709, 48, 48, 1)\n",
      "y_train shape: (28709, 7)\n"
     ]
    },
    {
     "name": "stderr",
     "output_type": "stream",
     "text": [
      "INFO:plaidml:Opening device \"amd_radeon_pro_455_compute_engine.0\"\n",
      "/Users/karthik/miniconda2/lib/python2.7/site-packages/ipykernel_launcher.py:19: UserWarning: Update your `Dense` call to the Keras 2 API: `Dense(units=3072, activation=\"relu\")`\n"
     ]
    }
   ],
   "source": [
    "print('x_train shape:', x_train.shape)\n",
    "print('y_train shape:', y_train.shape)\n",
    "y_train = y_train.reshape(len(x_train),7)\n",
    "y_test = y_test.reshape(len(x_test),7)\n",
    "print('x_train shape:', x_train.shape)\n",
    "print('y_train shape:', y_train.shape)\n",
    "model = Sequential()\n",
    "model.add(Conv2D(64, kernel_size=(5, 5),activation='relu',input_shape=input_shape))\n",
    "model.add(MaxPooling2D(pool_size=(3, 3), strides=2))\n",
    "#model.add(Dropout(0.25))\n",
    "\n",
    "model.add(Conv2D(64, (5, 5), activation='relu'))\n",
    "model.add(MaxPooling2D(pool_size=(3, 3), strides=2))\n",
    "\n",
    "\n",
    "model.add(Conv2D(128, (4, 4), activation='relu'))\n",
    "model.add(Dropout(0.3))\n",
    "model.add(Flatten())\n",
    "model.add(Dense(output_dim=3072, activation='relu'))\n",
    "#model.add(Flatten())\n",
    "model.add(Dense(num_classes, activation='softmax'))"
   ]
  },
  {
   "cell_type": "code",
   "execution_count": 11,
   "metadata": {
    "scrolled": false
   },
   "outputs": [
    {
     "name": "stdout",
     "output_type": "stream",
     "text": [
      "Epoch 1/60\n",
      "28709/28709 [==============================] - 56s - loss: 1.7686 - acc: 0.2758    \n",
      "Epoch 2/60\n",
      "28709/28709 [==============================] - 50s - loss: 1.5462 - acc: 0.4007    \n",
      "Epoch 3/60\n",
      "28709/28709 [==============================] - 49s - loss: 1.4221 - acc: 0.4497    \n",
      "Epoch 4/60\n",
      "28709/28709 [==============================] - 49s - loss: 1.3287 - acc: 0.4897    \n",
      "Epoch 5/60\n",
      "28709/28709 [==============================] - 49s - loss: 1.2647 - acc: 0.5185    \n",
      "Epoch 6/60\n",
      "28709/28709 [==============================] - 49s - loss: 1.2197 - acc: 0.5349    \n",
      "Epoch 7/60\n",
      "28709/28709 [==============================] - 49s - loss: 1.1627 - acc: 0.5560    \n",
      "Epoch 8/60\n",
      "28709/28709 [==============================] - 49s - loss: 1.1171 - acc: 0.5764    \n",
      "Epoch 9/60\n",
      "28709/28709 [==============================] - 49s - loss: 1.0627 - acc: 0.5998    \n",
      "Epoch 10/60\n",
      "28709/28709 [==============================] - 49s - loss: 0.9980 - acc: 0.6237    \n",
      "Epoch 11/60\n",
      "28709/28709 [==============================] - 49s - loss: 0.9407 - acc: 0.6510    \n",
      "Epoch 12/60\n",
      "28709/28709 [==============================] - 49s - loss: 0.8651 - acc: 0.6810    \n",
      "Epoch 13/60\n",
      "28709/28709 [==============================] - 49s - loss: 0.7843 - acc: 0.7131    \n",
      "Epoch 14/60\n",
      "28709/28709 [==============================] - 49s - loss: 0.7065 - acc: 0.7457    \n",
      "Epoch 15/60\n",
      "28709/28709 [==============================] - 49s - loss: 0.6264 - acc: 0.7765    \n",
      "Epoch 16/60\n",
      "28709/28709 [==============================] - 49s - loss: 0.5413 - acc: 0.8083    \n",
      "Epoch 17/60\n",
      "28709/28709 [==============================] - 49s - loss: 0.4664 - acc: 0.8362    \n",
      "Epoch 18/60\n",
      "28709/28709 [==============================] - 49s - loss: 0.3915 - acc: 0.8640    \n",
      "Epoch 19/60\n",
      "28709/28709 [==============================] - 49s - loss: 0.3462 - acc: 0.8828    \n",
      "Epoch 20/60\n",
      "28709/28709 [==============================] - 49s - loss: 0.2934 - acc: 0.9037    \n",
      "Epoch 21/60\n",
      "28709/28709 [==============================] - 49s - loss: 0.2629 - acc: 0.9116    \n",
      "Epoch 22/60\n",
      "28709/28709 [==============================] - 49s - loss: 0.2282 - acc: 0.9258    \n",
      "Epoch 23/60\n",
      "28709/28709 [==============================] - 49s - loss: 0.1987 - acc: 0.9344    \n",
      "Epoch 24/60\n",
      "28709/28709 [==============================] - 49s - loss: 0.1860 - acc: 0.9393    \n",
      "Epoch 25/60\n",
      "28709/28709 [==============================] - 49s - loss: 0.1541 - acc: 0.9502    \n",
      "Epoch 26/60\n",
      "28709/28709 [==============================] - 49s - loss: 0.1512 - acc: 0.9520    \n",
      "Epoch 27/60\n",
      "28709/28709 [==============================] - 49s - loss: 0.1258 - acc: 0.9606    \n",
      "Epoch 28/60\n",
      "28709/28709 [==============================] - 49s - loss: 0.1337 - acc: 0.9573    \n",
      "Epoch 29/60\n",
      "28709/28709 [==============================] - 49s - loss: 0.1161 - acc: 0.9639    \n",
      "Epoch 30/60\n",
      "28709/28709 [==============================] - 49s - loss: 0.1216 - acc: 0.9622    \n",
      "Epoch 31/60\n",
      "28709/28709 [==============================] - 49s - loss: 0.1166 - acc: 0.9622    \n",
      "Epoch 32/60\n",
      "28709/28709 [==============================] - 49s - loss: 0.0965 - acc: 0.9704    \n",
      "Epoch 33/60\n",
      "28709/28709 [==============================] - 49s - loss: 0.1013 - acc: 0.9694    \n",
      "Epoch 34/60\n",
      "28709/28709 [==============================] - 49s - loss: 0.0928 - acc: 0.9728    \n",
      "Epoch 35/60\n",
      "28709/28709 [==============================] - 49s - loss: 0.0854 - acc: 0.9745    \n",
      "Epoch 36/60\n",
      "28709/28709 [==============================] - 49s - loss: 0.0901 - acc: 0.9731    \n",
      "Epoch 37/60\n",
      "28709/28709 [==============================] - 49s - loss: 0.0849 - acc: 0.9739    \n",
      "Epoch 38/60\n",
      "28709/28709 [==============================] - 49s - loss: 0.0842 - acc: 0.9748    \n",
      "Epoch 39/60\n",
      "28709/28709 [==============================] - 49s - loss: 0.0738 - acc: 0.9797    \n",
      "Epoch 40/60\n",
      "28709/28709 [==============================] - 49s - loss: 0.0824 - acc: 0.9759    \n",
      "Epoch 41/60\n",
      "28709/28709 [==============================] - 49s - loss: 0.0731 - acc: 0.9777    \n",
      "Epoch 42/60\n",
      "28709/28709 [==============================] - 49s - loss: 0.0752 - acc: 0.9768    \n",
      "Epoch 43/60\n",
      "28709/28709 [==============================] - 49s - loss: 0.0801 - acc: 0.9757    \n",
      "Epoch 44/60\n",
      "28709/28709 [==============================] - 49s - loss: 0.0785 - acc: 0.9759    \n",
      "Epoch 45/60\n",
      "28709/28709 [==============================] - 49s - loss: 0.0782 - acc: 0.9766    \n",
      "Epoch 46/60\n",
      "28709/28709 [==============================] - 49s - loss: 0.0688 - acc: 0.9796    \n",
      "Epoch 47/60\n",
      "28709/28709 [==============================] - 49s - loss: 0.0669 - acc: 0.9803    \n",
      "Epoch 48/60\n",
      "28709/28709 [==============================] - 49s - loss: 0.0686 - acc: 0.9794    \n",
      "Epoch 49/60\n",
      "28709/28709 [==============================] - 49s - loss: 0.0685 - acc: 0.9799    \n",
      "Epoch 50/60\n",
      "28709/28709 [==============================] - 49s - loss: 0.0619 - acc: 0.9828    \n",
      "Epoch 51/60\n",
      "28709/28709 [==============================] - 49s - loss: 0.0581 - acc: 0.9834    \n",
      "Epoch 52/60\n",
      "28709/28709 [==============================] - 49s - loss: 0.0632 - acc: 0.9815    \n",
      "Epoch 53/60\n",
      "28709/28709 [==============================] - 49s - loss: 0.0527 - acc: 0.9857    \n",
      "Epoch 54/60\n",
      "28709/28709 [==============================] - 49s - loss: 0.0708 - acc: 0.9782    \n",
      "Epoch 55/60\n",
      "28709/28709 [==============================] - 49s - loss: 0.0566 - acc: 0.9844    \n",
      "Epoch 56/60\n",
      "28709/28709 [==============================] - 49s - loss: 0.0552 - acc: 0.9853    \n",
      "Epoch 57/60\n",
      "28709/28709 [==============================] - 49s - loss: 0.0585 - acc: 0.9831    \n",
      "Epoch 58/60\n",
      "28709/28709 [==============================] - 49s - loss: 0.0542 - acc: 0.9846    \n",
      "Epoch 59/60\n",
      "28709/28709 [==============================] - 49s - loss: 0.0523 - acc: 0.9844    \n",
      "Epoch 60/60\n",
      "28709/28709 [==============================] - 49s - loss: 0.0545 - acc: 0.9842    \n"
     ]
    },
    {
     "data": {
      "text/plain": [
       "<keras.callbacks.History at 0x12fae1710>"
      ]
     },
     "execution_count": 11,
     "metadata": {},
     "output_type": "execute_result"
    }
   ],
   "source": [
    "model.compile(loss=keras.losses.categorical_crossentropy,\n",
    "              optimizer=keras.optimizers.Adam(),\n",
    "              metrics=['accuracy'])\n",
    "\n",
    "model.fit(x=x_train,y=y_train,\n",
    "          batch_size=256,\n",
    "          epochs=60,\n",
    "          verbose=1)"
   ]
  },
  {
   "cell_type": "code",
   "execution_count": 12,
   "metadata": {
    "scrolled": true
   },
   "outputs": [
    {
     "name": "stdout",
     "output_type": "stream",
     "text": [
      "Test loss: 2.77541706907\n",
      "Test accuracy: 0.578434104216\n"
     ]
    }
   ],
   "source": [
    "score = model.evaluate(x_test, y_test, verbose=0)\n",
    "print('Test loss:', score[0])\n",
    "print('Test accuracy:', score[1])"
   ]
  },
  {
   "cell_type": "code",
   "execution_count": 13,
   "metadata": {
    "scrolled": true
   },
   "outputs": [],
   "source": [
    "from keras.preprocessing import image"
   ]
  },
  {
   "cell_type": "code",
   "execution_count": 33,
   "metadata": {
    "scrolled": false
   },
   "outputs": [
    {
     "name": "stdout",
     "output_type": "stream",
     "text": [
      "Populating the interactive namespace from numpy and matplotlib\n"
     ]
    },
    {
     "data": {
      "image/png": "[encoded data removed]",
      "text/plain": [
       "<matplotlib.figure.Figure at 0x116ed6d50>"
      ]
     },
     "metadata": {},
     "output_type": "display_data"
    },
    {
     "data": {
      "image/png": "[encoded data removed]",
      "text/plain": [
       "<matplotlib.figure.Figure at 0x16022c810>"
      ]
     },
     "metadata": {},
     "output_type": "display_data"
    }
   ],
   "source": [
    "import matplotlib.pyplot as plt\n",
    "%pylab inline\n",
    "img = image.load_img(\"/Users/karthik/Documents/Sc\\\", grayscale=True, target_size=(48, 48))\n",
    " \n",
    "x = image.img_to_array(img)\n",
    "x = np.expand_dims(x, axis = 0)\n",
    " \n",
    "x /= 255\n",
    " \n",
    "custom = model.predict(x)\n",
    "emotion_analysis(custom[0])\n",
    " \n",
    "x = np.array(x, 'float32')\n",
    "x = x.reshape([48, 48]);\n",
    " \n",
    "plt.gray()\n",
    "plt.imshow(x)\n",
    "plt.show()"
   ]
  },
  {
   "cell_type": "code",
   "execution_count": 15,
   "metadata": {},
   "outputs": [],
   "source": [
    "def emotion_analysis(emotions):\n",
    "    objects = ('angry', 'disgust', 'fear', 'happy', 'sad', 'surprise', 'neutral')\n",
    "    y_pos = np.arange(len(objects))\n",
    "\n",
    "    plt.bar(y_pos, emotions*100, align='center', alpha=0.5)\n",
    "    plt.xticks(y_pos, objects)\n",
    "    plt.ylabel('percentage')\n",
    "    plt.title('emotion')\n",
    "\n",
    "    plt.show()"
   ]
  },
  {
   "cell_type": "code",
   "execution_count": 18,
   "metadata": {},
   "outputs": [
    {
     "name": "stdout",
     "output_type": "stream",
     "text": [
      "Saved model to disk\n"
     ]
    }
   ],
   "source": [
    "model.save_weights(\"model_isseu_dp03.h5\")\n",
    "print(\"Saved model to disk\")"
   ]
  },
  {
   "cell_type": "code",
   "execution_count": 19,
   "metadata": {},
   "outputs": [],
   "source": [
    "model_json = model.to_json()\n",
    "with open(\"model_isseu_dp_03.json\", \"w\") as json_file:\n",
    "    json_file.write(model_json)"
   ]
  },
  {
   "cell_type": "code",
   "execution_count": null,
   "metadata": {},
   "outputs": [],
   "source": []
  }
 ],
 "metadata": {
  "kernelspec": {
   "display_name": "Python 2",
   "language": "python",
   "name": "python2"
  },
  "language_info": {
   "codemirror_mode": {
    "name": "ipython",
    "version": 2
   },
   "file_extension": ".py",
   "mimetype": "text/x-python",
   "name": "python",
   "nbconvert_exporter": "python",
   "pygments_lexer": "ipython2",
   "version": "2.7.14"
  }
 },
 "nbformat": 4,
 "nbformat_minor": 2
}
